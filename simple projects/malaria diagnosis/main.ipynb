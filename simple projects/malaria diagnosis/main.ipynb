{
 "cells": [
  {
   "cell_type": "markdown",
   "metadata": {},
   "source": [
    "# Malaria Diagnosis"
   ]
  },
  {
   "cell_type": "code",
   "execution_count": 1,
   "metadata": {},
   "outputs": [
    {
     "name": "stderr",
     "output_type": "stream",
     "text": [
      "2024-06-10 15:31:40.358632: I external/local_tsl/tsl/cuda/cudart_stub.cc:32] Could not find cuda drivers on your machine, GPU will not be used.\n",
      "2024-06-10 15:31:40.663296: I external/local_tsl/tsl/cuda/cudart_stub.cc:32] Could not find cuda drivers on your machine, GPU will not be used.\n",
      "2024-06-10 15:31:42.448229: I tensorflow/core/platform/cpu_feature_guard.cc:210] This TensorFlow binary is optimized to use available CPU instructions in performance-critical operations.\n",
      "To enable the following instructions: AVX2 FMA, in other operations, rebuild TensorFlow with the appropriate compiler flags.\n",
      "2024-06-10 15:31:51.610752: W tensorflow/compiler/tf2tensorrt/utils/py_utils.cc:38] TF-TRT Warning: Could not find TensorRT\n"
     ]
    }
   ],
   "source": [
    "import tensorflow as tf \n",
    "import numpy as np \n",
    "import matplotlib.pyplot as plt "
   ]
  },
  {
   "cell_type": "code",
   "execution_count": 7,
   "metadata": {},
   "outputs": [],
   "source": [
    "FPATH = './tf_malaria.tfrecord'\n",
    "\n",
    "full_data = tf.data.TFRecordDataset(\n",
    "    filenames = [FPATH]\n",
    ")\n",
    "\n",
    "def parse_tfrecords(example):\n",
    "\n",
    "    feature_description = {\n",
    "        \"images\": tf.io.FixedLenFeature([], tf.string),\n",
    "        \"labels\": tf.io.FixedLenFeature([], tf.int64),\n",
    "    }\n",
    "\n",
    "    example = tf.io.parse_single_example(example, feature_description)\n",
    "    example[\"images\"] = tf.io.decode_jpeg(example[\"images\"], channels = 3)\n",
    "\n",
    "    return example[\"images\"], example[\"labels\"]\n",
    "\n",
    "\n",
    "\n",
    "\n",
    "dataset = (\n",
    "    full_data.map(parse_tfrecords)\n",
    ")"
   ]
  },
  {
   "cell_type": "code",
   "execution_count": 8,
   "metadata": {},
   "outputs": [],
   "source": [
    "def splits(dataset, TRAIN_RATIO, VAL_RATIO, TEST_RATIO):\n",
    "  DATASET_SIZE = len(list(dataset.as_numpy_iterator()))\n",
    "\n",
    "  train_dataset = dataset.take(int(TRAIN_RATIO * DATASET_SIZE))\n",
    "  val_test_dataset = dataset.skip(int(TRAIN_RATIO * DATASET_SIZE))\n",
    "\n",
    "  val_dataset = val_test_dataset.take(int(VAL_RATIO * DATASET_SIZE))\n",
    "\n",
    "  test_dataset = val_dataset.skip(int(VAL_RATIO * DATASET_SIZE))\n",
    "  return train_dataset, val_dataset, test_dataset"
   ]
  },
  {
   "cell_type": "code",
   "execution_count": 9,
   "metadata": {},
   "outputs": [],
   "source": [
    "TRAIN_RATIO = 0.8\n",
    "VAL_RATIO = 0.1\n",
    "TEST_RATIO = 0.1\n",
    "\n",
    "train_dataset , val_dataset, test_dataset = splits(dataset, TRAIN_RATIO, VAL_RATIO, TEST_RATIO)"
   ]
  },
  {
   "cell_type": "code",
   "execution_count": null,
   "metadata": {},
   "outputs": [],
   "source": []
  }
 ],
 "metadata": {
  "kernelspec": {
   "display_name": ".venv",
   "language": "python",
   "name": "python3"
  },
  "language_info": {
   "codemirror_mode": {
    "name": "ipython",
    "version": 3
   },
   "file_extension": ".py",
   "mimetype": "text/x-python",
   "name": "python",
   "nbconvert_exporter": "python",
   "pygments_lexer": "ipython3",
   "version": "3.10.12"
  }
 },
 "nbformat": 4,
 "nbformat_minor": 2
}
